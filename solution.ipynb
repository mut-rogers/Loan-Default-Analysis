{
 "cells": [
  {
   "cell_type": "code",
   "execution_count": 1,
   "id": "b17cea9e",
   "metadata": {},
   "outputs": [],
   "source": [
    "import pandas as pd \n",
    "import matplotlib.pyplot as plt\n",
    "import numpy as np\n",
    "import seaborn as sns"
   ]
  },
  {
   "cell_type": "code",
   "execution_count": 2,
   "id": "5337670b",
   "metadata": {},
   "outputs": [],
   "source": [
    "# Set the style of seaborn\n",
    "sns.set(style=\"whitegrid\") "
   ]
  },
  {
   "cell_type": "markdown",
   "id": "6844cb53",
   "metadata": {},
   "source": [
    "### EDA: Understanding the Dataset \n",
    "\n",
    "Shape, missing values, data types, overview etc"
   ]
  },
  {
   "cell_type": "code",
   "execution_count": 5,
   "id": "5264f9f0",
   "metadata": {},
   "outputs": [],
   "source": [
    "# loading the dataset \n",
    "loan_data_df = pd.read_csv(\"../data/loan_default_dataset_kenya.csv\")"
   ]
  },
  {
   "cell_type": "code",
   "execution_count": 6,
   "id": "1b906614",
   "metadata": {},
   "outputs": [
    {
     "data": {
      "text/html": [
       "<div>\n",
       "<style scoped>\n",
       "    .dataframe tbody tr th:only-of-type {\n",
       "        vertical-align: middle;\n",
       "    }\n",
       "\n",
       "    .dataframe tbody tr th {\n",
       "        vertical-align: top;\n",
       "    }\n",
       "\n",
       "    .dataframe thead th {\n",
       "        text-align: right;\n",
       "    }\n",
       "</style>\n",
       "<table border=\"1\" class=\"dataframe\">\n",
       "  <thead>\n",
       "    <tr style=\"text-align: right;\">\n",
       "      <th></th>\n",
       "      <th>Customer_ID</th>\n",
       "      <th>Age</th>\n",
       "      <th>Gender</th>\n",
       "      <th>Marital_Status</th>\n",
       "      <th>Employment_Status</th>\n",
       "      <th>Education_Level</th>\n",
       "      <th>Number_of_Dependents</th>\n",
       "      <th>Region</th>\n",
       "      <th>Account_Tenure_Years</th>\n",
       "      <th>Annual_Income</th>\n",
       "      <th>Loan_Amount</th>\n",
       "      <th>Loan_Term</th>\n",
       "      <th>Loan_Purpose</th>\n",
       "      <th>Credit_Score</th>\n",
       "      <th>Previous_Defaults</th>\n",
       "      <th>Existing_Loan_Count</th>\n",
       "      <th>Debt_to_Income_Ratio</th>\n",
       "      <th>Monthly_Installment</th>\n",
       "      <th>Late_Payments_Count</th>\n",
       "      <th>Default_Status</th>\n",
       "    </tr>\n",
       "  </thead>\n",
       "  <tbody>\n",
       "    <tr>\n",
       "      <th>0</th>\n",
       "      <td>C001</td>\n",
       "      <td>58</td>\n",
       "      <td>Female</td>\n",
       "      <td>Single</td>\n",
       "      <td>Employed</td>\n",
       "      <td>Diploma</td>\n",
       "      <td>3</td>\n",
       "      <td>Nairobi</td>\n",
       "      <td>17</td>\n",
       "      <td>2910864</td>\n",
       "      <td>1803901</td>\n",
       "      <td>48</td>\n",
       "      <td>Business</td>\n",
       "      <td>643</td>\n",
       "      <td>0</td>\n",
       "      <td>1</td>\n",
       "      <td>0.62</td>\n",
       "      <td>37581.27</td>\n",
       "      <td>0</td>\n",
       "      <td>0</td>\n",
       "    </tr>\n",
       "    <tr>\n",
       "      <th>1</th>\n",
       "      <td>C002</td>\n",
       "      <td>48</td>\n",
       "      <td>Male</td>\n",
       "      <td>Widowed</td>\n",
       "      <td>Unemployed</td>\n",
       "      <td>Secondary</td>\n",
       "      <td>2</td>\n",
       "      <td>Nairobi</td>\n",
       "      <td>10</td>\n",
       "      <td>4543699</td>\n",
       "      <td>1419930</td>\n",
       "      <td>24</td>\n",
       "      <td>Medical</td>\n",
       "      <td>594</td>\n",
       "      <td>0</td>\n",
       "      <td>2</td>\n",
       "      <td>0.31</td>\n",
       "      <td>59163.75</td>\n",
       "      <td>1</td>\n",
       "      <td>1</td>\n",
       "    </tr>\n",
       "    <tr>\n",
       "      <th>2</th>\n",
       "      <td>C003</td>\n",
       "      <td>34</td>\n",
       "      <td>Male</td>\n",
       "      <td>Single</td>\n",
       "      <td>Unemployed</td>\n",
       "      <td>Secondary</td>\n",
       "      <td>0</td>\n",
       "      <td>Eldoret</td>\n",
       "      <td>20</td>\n",
       "      <td>3910879</td>\n",
       "      <td>1711066</td>\n",
       "      <td>48</td>\n",
       "      <td>Business</td>\n",
       "      <td>818</td>\n",
       "      <td>0</td>\n",
       "      <td>0</td>\n",
       "      <td>0.44</td>\n",
       "      <td>35647.21</td>\n",
       "      <td>1</td>\n",
       "      <td>0</td>\n",
       "    </tr>\n",
       "    <tr>\n",
       "      <th>3</th>\n",
       "      <td>C004</td>\n",
       "      <td>62</td>\n",
       "      <td>Female</td>\n",
       "      <td>Divorced</td>\n",
       "      <td>Unemployed</td>\n",
       "      <td>Masters</td>\n",
       "      <td>1</td>\n",
       "      <td>Nairobi</td>\n",
       "      <td>11</td>\n",
       "      <td>3335609</td>\n",
       "      <td>1372954</td>\n",
       "      <td>36</td>\n",
       "      <td>Medical</td>\n",
       "      <td>834</td>\n",
       "      <td>1</td>\n",
       "      <td>1</td>\n",
       "      <td>0.41</td>\n",
       "      <td>38137.61</td>\n",
       "      <td>0</td>\n",
       "      <td>0</td>\n",
       "    </tr>\n",
       "    <tr>\n",
       "      <th>4</th>\n",
       "      <td>C005</td>\n",
       "      <td>27</td>\n",
       "      <td>Male</td>\n",
       "      <td>Single</td>\n",
       "      <td>Self-Employed</td>\n",
       "      <td>PhD</td>\n",
       "      <td>3</td>\n",
       "      <td>Nairobi</td>\n",
       "      <td>4</td>\n",
       "      <td>1135783</td>\n",
       "      <td>758970</td>\n",
       "      <td>36</td>\n",
       "      <td>Education</td>\n",
       "      <td>526</td>\n",
       "      <td>0</td>\n",
       "      <td>1</td>\n",
       "      <td>0.67</td>\n",
       "      <td>21082.50</td>\n",
       "      <td>0</td>\n",
       "      <td>1</td>\n",
       "    </tr>\n",
       "  </tbody>\n",
       "</table>\n",
       "</div>"
      ],
      "text/plain": [
       "  Customer_ID  Age  Gender Marital_Status Employment_Status Education_Level  \\\n",
       "0        C001   58  Female         Single          Employed         Diploma   \n",
       "1        C002   48    Male        Widowed        Unemployed       Secondary   \n",
       "2        C003   34    Male         Single        Unemployed       Secondary   \n",
       "3        C004   62  Female       Divorced        Unemployed         Masters   \n",
       "4        C005   27    Male         Single     Self-Employed             PhD   \n",
       "\n",
       "   Number_of_Dependents   Region  Account_Tenure_Years  Annual_Income  \\\n",
       "0                     3  Nairobi                    17        2910864   \n",
       "1                     2  Nairobi                    10        4543699   \n",
       "2                     0  Eldoret                    20        3910879   \n",
       "3                     1  Nairobi                    11        3335609   \n",
       "4                     3  Nairobi                     4        1135783   \n",
       "\n",
       "   Loan_Amount  Loan_Term Loan_Purpose  Credit_Score  Previous_Defaults  \\\n",
       "0      1803901         48     Business           643                  0   \n",
       "1      1419930         24      Medical           594                  0   \n",
       "2      1711066         48     Business           818                  0   \n",
       "3      1372954         36      Medical           834                  1   \n",
       "4       758970         36    Education           526                  0   \n",
       "\n",
       "   Existing_Loan_Count  Debt_to_Income_Ratio  Monthly_Installment  \\\n",
       "0                    1                  0.62             37581.27   \n",
       "1                    2                  0.31             59163.75   \n",
       "2                    0                  0.44             35647.21   \n",
       "3                    1                  0.41             38137.61   \n",
       "4                    1                  0.67             21082.50   \n",
       "\n",
       "   Late_Payments_Count  Default_Status  \n",
       "0                    0               0  \n",
       "1                    1               1  \n",
       "2                    1               0  \n",
       "3                    0               0  \n",
       "4                    0               1  "
      ]
     },
     "execution_count": 6,
     "metadata": {},
     "output_type": "execute_result"
    }
   ],
   "source": [
    "# Overview of the dataset \n",
    "loan_data_df.head()"
   ]
  },
  {
   "cell_type": "code",
   "execution_count": 7,
   "id": "65126641",
   "metadata": {},
   "outputs": [
    {
     "data": {
      "text/plain": [
       "Customer_ID              object\n",
       "Age                       int64\n",
       "Gender                   object\n",
       "Marital_Status           object\n",
       "Employment_Status        object\n",
       "Education_Level          object\n",
       "Number_of_Dependents      int64\n",
       "Region                   object\n",
       "Account_Tenure_Years      int64\n",
       "Annual_Income             int64\n",
       "Loan_Amount               int64\n",
       "Loan_Term                 int64\n",
       "Loan_Purpose             object\n",
       "Credit_Score              int64\n",
       "Previous_Defaults         int64\n",
       "Existing_Loan_Count       int64\n",
       "Debt_to_Income_Ratio    float64\n",
       "Monthly_Installment     float64\n",
       "Late_Payments_Count       int64\n",
       "Default_Status            int64\n",
       "dtype: object"
      ]
     },
     "execution_count": 7,
     "metadata": {},
     "output_type": "execute_result"
    }
   ],
   "source": [
    "# Cehcking the data types of the columns\n",
    "loan_data_df.dtypes"
   ]
  },
  {
   "cell_type": "code",
   "execution_count": 8,
   "id": "e421cc7a",
   "metadata": {},
   "outputs": [
    {
     "data": {
      "text/plain": [
       "Customer_ID             0\n",
       "Age                     0\n",
       "Gender                  0\n",
       "Marital_Status          0\n",
       "Employment_Status       0\n",
       "Education_Level         0\n",
       "Number_of_Dependents    0\n",
       "Region                  0\n",
       "Account_Tenure_Years    0\n",
       "Annual_Income           0\n",
       "Loan_Amount             0\n",
       "Loan_Term               0\n",
       "Loan_Purpose            0\n",
       "Credit_Score            0\n",
       "Previous_Defaults       0\n",
       "Existing_Loan_Count     0\n",
       "Debt_to_Income_Ratio    0\n",
       "Monthly_Installment     0\n",
       "Late_Payments_Count     0\n",
       "Default_Status          0\n",
       "dtype: int64"
      ]
     },
     "execution_count": 8,
     "metadata": {},
     "output_type": "execute_result"
    }
   ],
   "source": [
    "# Checking for missing values in the dataset\n",
    "loan_data_df.isnull().sum()"
   ]
  },
  {
   "cell_type": "code",
   "execution_count": 9,
   "id": "21d1afa8",
   "metadata": {},
   "outputs": [
    {
     "data": {
      "text/plain": [
       "(500, 20)"
      ]
     },
     "execution_count": 9,
     "metadata": {},
     "output_type": "execute_result"
    }
   ],
   "source": [
    "# Checking the shape of the dataset\n",
    "loan_data_df.shape"
   ]
  },
  {
   "cell_type": "code",
   "execution_count": 10,
   "id": "fc65c63d",
   "metadata": {},
   "outputs": [
    {
     "data": {
      "text/plain": [
       "Index(['Customer_ID', 'Age', 'Gender', 'Marital_Status', 'Employment_Status',\n",
       "       'Education_Level', 'Number_of_Dependents', 'Region',\n",
       "       'Account_Tenure_Years', 'Annual_Income', 'Loan_Amount', 'Loan_Term',\n",
       "       'Loan_Purpose', 'Credit_Score', 'Previous_Defaults',\n",
       "       'Existing_Loan_Count', 'Debt_to_Income_Ratio', 'Monthly_Installment',\n",
       "       'Late_Payments_Count', 'Default_Status'],\n",
       "      dtype='object')"
      ]
     },
     "execution_count": 10,
     "metadata": {},
     "output_type": "execute_result"
    }
   ],
   "source": [
    "# Checking the columns of the dataset\n",
    "loan_data_df.columns"
   ]
  },
  {
   "cell_type": "markdown",
   "id": "76ddf55e",
   "metadata": {},
   "source": [
    "### Business Questions\n",
    "\n",
    "1. Which customer segments have the highest default rates? - Segmentation by variables like employment status, education level, region, or age group.\n",
    "\n",
    "2. How does the credit score impact the likelihood of loan default? - Is there a threshold below which default rates spike?\n",
    "\n",
    "3. What is the relatinship between Debt-to-Income Ratio and loan default? - is there a critical DTI level that signals higher risks\n",
    "\n",
    "4. Do existing loans or previous defaults significantly increase the risk of new defaults?\n",
    "\n",
    "5. Which loan purposes are most commonly associated with loan defaults?\n",
    "\n",
    "6. Can we build a predictinve mode to identify high-risk loan applicants before disbursements? - Using key variables like Credit Score, Income, and Loan Amount?"
   ]
  },
  {
   "cell_type": "markdown",
   "id": "0d100bc1",
   "metadata": {},
   "source": []
  }
 ],
 "metadata": {
  "kernelspec": {
   "display_name": "venv",
   "language": "python",
   "name": "python3"
  },
  "language_info": {
   "codemirror_mode": {
    "name": "ipython",
    "version": 3
   },
   "file_extension": ".py",
   "mimetype": "text/x-python",
   "name": "python",
   "nbconvert_exporter": "python",
   "pygments_lexer": "ipython3",
   "version": "3.11.2"
  }
 },
 "nbformat": 4,
 "nbformat_minor": 5
}
